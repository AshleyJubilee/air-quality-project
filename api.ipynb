{
 "cells": [
  {
   "cell_type": "code",
   "execution_count": 3,
   "metadata": {},
   "outputs": [],
   "source": [
    "import requests\n",
    "import json\n",
    "import pandas as pd\n",
    "from pprint import pprint\n",
    "from config import API_KEY"
   ]
  },
  {
   "cell_type": "code",
   "execution_count": 21,
   "metadata": {},
   "outputs": [
    {
     "name": "stdout",
     "output_type": "stream",
     "text": [
      "0\n",
      "https://api.elichens.com/v0/pollen/history\n"
     ]
    }
   ],
   "source": [
    "def apiType(id, pollen=False):\n",
    "\n",
    "    type = ['history', 'now', 'forecast', 'tendency']\n",
    "\n",
    "    print(id)\n",
    "\n",
    "    if pollen: \n",
    "        return f'pollen/{type[id]}'\n",
    "    else:\n",
    "        return type[id]\n",
    "    \n",
    "typeParams = apiType(0)\n",
    "\n",
    "url = f'https://api.elichens.com/v0/{typeParams}'\n",
    "\n",
    "x = url\n",
    "print(x)"
   ]
  },
  {
   "cell_type": "code",
   "execution_count": null,
   "metadata": {},
   "outputs": [],
   "source": []
  }
 ],
 "metadata": {
  "kernelspec": {
   "display_name": "dev",
   "language": "python",
   "name": "python3"
  },
  "language_info": {
   "codemirror_mode": {
    "name": "ipython",
    "version": 3
   },
   "file_extension": ".py",
   "mimetype": "text/x-python",
   "name": "python",
   "nbconvert_exporter": "python",
   "pygments_lexer": "ipython3",
   "version": "3.12.0"
  }
 },
 "nbformat": 4,
 "nbformat_minor": 2
}
